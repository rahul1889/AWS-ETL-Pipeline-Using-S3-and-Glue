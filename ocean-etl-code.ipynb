{
	"metadata": {
		"kernelspec": {
			"name": "glue_pyspark",
			"display_name": "Glue PySpark",
			"language": "python"
		},
		"language_info": {
			"name": "Python_Glue_Session",
			"mimetype": "text/x-python",
			"codemirror_mode": {
				"name": "python",
				"version": 3
			},
			"pygments_lexer": "python3",
			"file_extension": ".py"
		},
		"toc-showcode": false
	},
	"nbformat_minor": 4,
	"nbformat": 4,
	"cells": [
		{
			"cell_type": "markdown",
			"source": "# AWS Glue Studio Notebook\n##### You are now running a AWS Glue Studio notebook; To start using your notebook you need to start an AWS Glue Interactive Session.\n",
			"metadata": {
				"editable": true,
				"trusted": true
			}
		},
		{
			"cell_type": "markdown",
			"source": "#### Optional: Run this cell to see available notebook commands (\"magics\").\n",
			"metadata": {
				"editable": true,
				"trusted": true
			}
		},
		{
			"cell_type": "code",
			"source": "%idle_timeout 2880\n%glue_version 4.0\n%worker_type G.1X\n%number_of_workers 2",
			"metadata": {
				"trusted": true,
				"editable": true
			},
			"execution_count": 5,
			"outputs": [
				{
					"name": "stdout",
					"text": "Welcome to the Glue Interactive Sessions Kernel\nFor more information on available magic commands, please type %help in any new cell.\n\nPlease view our Getting Started page to access the most up-to-date information on the Interactive Sessions kernel: https://docs.aws.amazon.com/glue/latest/dg/interactive-sessions.html\nInstalled kernel version: 1.0.2 \nCurrent idle_timeout is None minutes.\nidle_timeout has been set to 2880 minutes.\nSetting Glue version to: 4.0\nPrevious worker type: None\nSetting new worker type to: G.1X\nPrevious number of workers: None\nSetting new number of workers to: 2\n",
					"output_type": "stream"
				}
			]
		},
		{
			"cell_type": "markdown",
			"source": "####  Run this cell to set up and start your interactive session.\n",
			"metadata": {
				"editable": true,
				"trusted": true
			}
		},
		{
			"cell_type": "code",
			"source": "import sys\nfrom awsglue.transforms import *\nfrom awsglue.utils import getResolvedOptions\nfrom pyspark.context import SparkContext\nfrom awsglue.context import GlueContext\nfrom awsglue.dynamicframe import DynamicFrame\nfrom pyspark.sql.functions import col\nfrom awsglue.job import Job",
			"metadata": {
				"trusted": true,
				"editable": true
			},
			"execution_count": 144,
			"outputs": [
				{
					"name": "stdout",
					"text": "\n",
					"output_type": "stream"
				}
			]
		},
		{
			"cell_type": "code",
			"source": "Sc = SparkContext.getOrCreate()\nglueContext = GlueContext(Sc)\nspark = glueCon.spark_session\njob = Job(glueCon)",
			"metadata": {
				"trusted": true,
				"tags": []
			},
			"execution_count": 149,
			"outputs": [
				{
					"name": "stdout",
					"text": "\n",
					"output_type": "stream"
				}
			]
		},
		{
			"cell_type": "markdown",
			"source": "### catalog: database and table names, s3 output bucket",
			"metadata": {}
		},
		{
			"cell_type": "code",
			"source": "db_name = \"ocean-dbt\"\ntbl_name = \"ocean_input_data\"\ns3_write_bucket = \"s3://ocean-input-data/\"",
			"metadata": {
				"trusted": true,
				"tags": []
			},
			"execution_count": 2,
			"outputs": [
				{
					"name": "stdout",
					"text": "\n",
					"output_type": "stream"
				}
			]
		},
		{
			"cell_type": "markdown",
			"source": "# Extract",
			"metadata": {}
		},
		{
			"cell_type": "markdown",
			"source": "#### Creating datasource using catalog table",
			"metadata": {
				"editable": true,
				"trusted": true
			}
		},
		{
			"cell_type": "code",
			"source": "dataframe = glueContext.create_dynamic_frame.from_catalog(database= db_name, table_name= tbl_name)",
			"metadata": {
				"trusted": true,
				"editable": true
			},
			"execution_count": 6,
			"outputs": [
				{
					"name": "stdout",
					"text": "\n",
					"output_type": "stream"
				}
			]
		},
		{
			"cell_type": "code",
			"source": "dataframe.printSchema()",
			"metadata": {
				"trusted": true,
				"tags": [],
				"collapsed": true,
				"jupyter": {
					"outputs_hidden": true
				}
			},
			"execution_count": 7,
			"outputs": [
				{
					"name": "stdout",
					"text": "root\n|-- date: string\n|-- bill number: string\n|-- item desc: string\n|-- time: string\n|-- quantity: long\n|-- rate: long\n|-- tax: double\n|-- discount: long\n|-- total: double\n|-- category: string\n",
					"output_type": "stream"
				}
			]
		},
		{
			"cell_type": "markdown",
			"source": "#### Convert the DynamicFrame to a Spark DataFrame and display a sample of the data\n",
			"metadata": {
				"editable": true,
				"trusted": true
			}
		},
		{
			"cell_type": "code",
			"source": "df_ocean = dataframe.toDF()\ndf_ocean.show()",
			"metadata": {
				"trusted": true,
				"editable": true
			},
			"execution_count": 96,
			"outputs": [
				{
					"name": "stdout",
					"text": "+---------+-----------+--------------------+----------+--------+----+-----+--------+------+--------+\n|     date|bill number|           item desc|      time|quantity|rate|  tax|discount| total|category|\n+---------+-----------+--------------------+----------+--------+----+-----+--------+------+--------+\n|01-Jan-20|   G0470115|MINERAL WATER(100...|1:15:11 pm|       1|  50|11.88|       0| 61.88|BEVERAGE|\n|01-Jan-20|   G0470115|MONSOON MALABAR (...|1:15:11 pm|       1| 100|23.75|       0|123.75|BEVERAGE|\n|01-Jan-20|   G0470116| MASALA CHAI CUTTING|1:17:35 pm|       1|  40|  9.5|       0|  49.5|BEVERAGE|\n|01-Jan-20|   G0470117|MINERAL WATER(100...|1:19:55 pm|       1|  50|11.88|       0| 61.88|BEVERAGE|\n|01-Jan-20|   G0470283|   MOROCCAN MINT TEA|1:20:18 am|       1|  45|10.69|       0| 55.69|BEVERAGE|\n|01-Jan-20|   G0470283|MINERAL WATER(100...|1:20:18 am|       1|  50|11.88|       0| 61.88|BEVERAGE|\n|01-Jan-20|   G0470118| MASALA CHAI CUTTING|1:21:34 pm|       1|  40|  9.5|       0|  49.5|BEVERAGE|\n|01-Jan-20|   G0470118|   MOROCCAN MINT TEA|1:21:34 pm|       1|  45|10.69|       0| 55.69|BEVERAGE|\n|01-Jan-20|   G0470284|          CAPPUCCINO|1:29:38 am|       1|  60|14.25|       0| 74.25|BEVERAGE|\n|01-Jan-20|   G0470285|   MOROCCAN MINT TEA|1:29:46 am|       1|  45|10.69|       0| 55.69|BEVERAGE|\n|01-Jan-20|   G0470285|SUMATRA MANDHELIN...|1:29:46 am|       1|  95|22.56|       0|117.56|BEVERAGE|\n|01-Jan-20|   G0470285|BRAZIL BOURBONSAN...|1:29:46 am|       1| 115|27.31|       0|142.31|BEVERAGE|\n|01-Jan-20|   G0470120|      LEMON ICED TEA|1:36:33 pm|       1|  85|20.19|       0|105.19|BEVERAGE|\n|01-Jan-20|   G0470122|    COUNTRY LEMONADE|1:42:05 pm|       1|  85|20.19|       0|105.19|BEVERAGE|\n|01-Jan-20|   G0470122|      LEMON ICED TEA|1:42:05 pm|       2|  85|40.38|       0|210.38|BEVERAGE|\n|01-Jan-20|   G0470127|          CAPPUCCINO|2:02:15 pm|       1|  60|14.25|       0| 74.25|BEVERAGE|\n|01-Jan-20|   G0470128|MINERAL WATER(100...|2:02:35 pm|       1|  50|11.88|       0| 61.88|BEVERAGE|\n|01-Jan-20|   G0470133|          CAPPUCCINO|2:21:32 pm|       2|  60| 28.5|       0| 148.5|BEVERAGE|\n|01-Jan-20|   G0470139|MINERAL WATER(100...|2:53:24 pm|       1|  50|11.88|       0| 61.88|BEVERAGE|\n|01-Jan-20|   G0470140|        MIAMI MELONS|2:54:32 pm|       1|  85|20.19|       0|105.19|BEVERAGE|\n+---------+-----------+--------------------+----------+--------+----+-----+--------+------+--------+\nonly showing top 20 rows\n",
					"output_type": "stream"
				}
			]
		},
		{
			"cell_type": "markdown",
			"source": "# Transform",
			"metadata": {}
		},
		{
			"cell_type": "code",
			"source": "# dropping rows if a row contains more than 5 null values\ndf_ocean = df_ocean.dropna(thresh=5)",
			"metadata": {
				"trusted": true,
				"tags": []
			},
			"execution_count": 97,
			"outputs": [
				{
					"name": "stdout",
					"text": "\n",
					"output_type": "stream"
				}
			]
		},
		{
			"cell_type": "code",
			"source": "df_ocean.show(5)",
			"metadata": {
				"trusted": true,
				"tags": []
			},
			"execution_count": 103,
			"outputs": [
				{
					"name": "stdout",
					"text": "+---------+-----------+--------------------+----------+--------+----+-----+--------+------+--------+\n|     date|bill number|           item desc|      time|quantity|rate|  tax|discount| total|category|\n+---------+-----------+--------------------+----------+--------+----+-----+--------+------+--------+\n|01-Jan-20|   G0470115|MINERAL WATER(100...|1:15:11 pm|       1|  50|11.88|       0| 61.88|BEVERAGE|\n|01-Jan-20|   G0470115|MONSOON MALABAR (...|1:15:11 pm|       1| 100|23.75|       0|123.75|BEVERAGE|\n|01-Jan-20|   G0470116| MASALA CHAI CUTTING|1:17:35 pm|       1|  40|  9.5|       0|  49.5|BEVERAGE|\n|01-Jan-20|   G0470117|MINERAL WATER(100...|1:19:55 pm|       1|  50|11.88|       0| 61.88|BEVERAGE|\n|01-Jan-20|   G0470283|   MOROCCAN MINT TEA|1:20:18 am|       1|  45|10.69|       0| 55.69|BEVERAGE|\n+---------+-----------+--------------------+----------+--------+----+-----+--------+------+--------+\nonly showing top 5 rows\n",
					"output_type": "stream"
				}
			]
		},
		{
			"cell_type": "code",
			"source": "#ranaming multiple column names\ndf_ocean_rename = df_ocean.withColumnRenamed(\"item desc\",\"Item_Description\").withColumnRenamed(\"total\",\"Total_Bill_Amount\")",
			"metadata": {
				"trusted": true,
				"tags": []
			},
			"execution_count": 100,
			"outputs": [
				{
					"name": "stdout",
					"text": "\n",
					"output_type": "stream"
				}
			]
		},
		{
			"cell_type": "code",
			"source": "df_ocean_rename.show(5)",
			"metadata": {
				"trusted": true,
				"tags": []
			},
			"execution_count": 102,
			"outputs": [
				{
					"name": "stdout",
					"text": "+---------+-----------+--------------------+----------+--------+----+-----+--------+-----------------+--------+\n|     date|bill number|    Item_Description|      time|quantity|rate|  tax|discount|Total_Bill_Amount|category|\n+---------+-----------+--------------------+----------+--------+----+-----+--------+-----------------+--------+\n|01-Jan-20|   G0470115|MINERAL WATER(100...|1:15:11 pm|       1|  50|11.88|       0|            61.88|BEVERAGE|\n|01-Jan-20|   G0470115|MONSOON MALABAR (...|1:15:11 pm|       1| 100|23.75|       0|           123.75|BEVERAGE|\n|01-Jan-20|   G0470116| MASALA CHAI CUTTING|1:17:35 pm|       1|  40|  9.5|       0|             49.5|BEVERAGE|\n|01-Jan-20|   G0470117|MINERAL WATER(100...|1:19:55 pm|       1|  50|11.88|       0|            61.88|BEVERAGE|\n|01-Jan-20|   G0470283|   MOROCCAN MINT TEA|1:20:18 am|       1|  45|10.69|       0|            55.69|BEVERAGE|\n+---------+-----------+--------------------+----------+--------+----+-----+--------+-----------------+--------+\nonly showing top 5 rows\n",
					"output_type": "stream"
				}
			]
		},
		{
			"cell_type": "code",
			"source": "# replacing the missing value in Item_Description column and populating with a \"Not Available\"\ndf_ocean_nonull = df_ocean_rename.na.fill(\"Not Available\",subset=[\"Item_Description\"])",
			"metadata": {
				"trusted": true,
				"tags": []
			},
			"execution_count": 104,
			"outputs": [
				{
					"name": "stdout",
					"text": "\n",
					"output_type": "stream"
				}
			]
		},
		{
			"cell_type": "code",
			"source": "df_ocean_nonull.show(5)",
			"metadata": {
				"trusted": true,
				"tags": []
			},
			"execution_count": 111,
			"outputs": [
				{
					"name": "stdout",
					"text": "+---------+-----------+--------------------+----------+--------+----+-----+--------+-----------------+--------+\n|     date|bill number|    Item_Description|      time|quantity|rate|  tax|discount|Total_Bill_Amount|category|\n+---------+-----------+--------------------+----------+--------+----+-----+--------+-----------------+--------+\n|01-Jan-20|   G0470115|MINERAL WATER(100...|1:15:11 pm|       1|  50|11.88|       0|            61.88|BEVERAGE|\n|01-Jan-20|   G0470115|MONSOON MALABAR (...|1:15:11 pm|       1| 100|23.75|       0|           123.75|BEVERAGE|\n|01-Jan-20|   G0470116| MASALA CHAI CUTTING|1:17:35 pm|       1|  40|  9.5|       0|             49.5|BEVERAGE|\n|01-Jan-20|   G0470117|MINERAL WATER(100...|1:19:55 pm|       1|  50|11.88|       0|            61.88|BEVERAGE|\n|01-Jan-20|   G0470283|   MOROCCAN MINT TEA|1:20:18 am|       1|  45|10.69|       0|            55.69|BEVERAGE|\n+---------+-----------+--------------------+----------+--------+----+-----+--------+-----------------+--------+\nonly showing top 5 rows\n",
					"output_type": "stream"
				}
			]
		},
		{
			"cell_type": "code",
			"source": "#Grouping the records by bill number and calculating sum of total bill amount then sort them in decending order\ndf_max_bill_number = df_ocean_nonull.groupBy(\"bill number\").sum(\"Total_Bill_Amount\").sort(\"sum(Total_Bill_Amount)\",ascending=False)",
			"metadata": {
				"trusted": true,
				"tags": []
			},
			"execution_count": 106,
			"outputs": [
				{
					"name": "stdout",
					"text": "\n",
					"output_type": "stream"
				}
			]
		},
		{
			"cell_type": "code",
			"source": "df_max_bill_number.show(5)",
			"metadata": {
				"trusted": true,
				"tags": []
			},
			"execution_count": 109,
			"outputs": [
				{
					"name": "stdout",
					"text": "+-----------+----------------------+\n|bill number|sum(Total_Bill_Amount)|\n+-----------+----------------------+\n|   G0470157|                365.07|\n|   G0470122|                315.57|\n|   G0470285|                315.56|\n|   G0470260|                315.56|\n|   G0470141|                235.13|\n+-----------+----------------------+\nonly showing top 5 rows\n",
					"output_type": "stream"
				}
			]
		},
		{
			"cell_type": "code",
			"source": "#Grouping the records by Item_Description and calculating sum of total bill amount then sort them in decending order\ndf_max_item_description = df_ocean_nonull.groupBy(\"Item_Description\").sum(\"Total_Bill_Amount\").sort(\"sum(Total_Bill_Amount)\",ascending=False)",
			"metadata": {
				"trusted": true,
				"tags": []
			},
			"execution_count": 113,
			"outputs": [
				{
					"name": "stdout",
					"text": "\n",
					"output_type": "stream"
				}
			]
		},
		{
			"cell_type": "code",
			"source": "df_max_item_description.show(5)",
			"metadata": {
				"trusted": true,
				"tags": []
			},
			"execution_count": 114,
			"outputs": [
				{
					"name": "stdout",
					"text": "+--------------------+----------------------+\n|    Item_Description|sum(Total_Bill_Amount)|\n+--------------------+----------------------+\n|          CAPPUCCINO|               1559.25|\n|      LEMON ICED TEA|               1472.65|\n|RED BULL ENERGY D...|                773.45|\n|MINERAL WATER(100...|     742.5600000000001|\n|         CAFFE LATTE|                519.78|\n+--------------------+----------------------+\nonly showing top 5 rows\n",
					"output_type": "stream"
				}
			]
		},
		{
			"cell_type": "code",
			"source": "#Grouping the records by bill number, Item_Descriptio and calculating sum of total bill amount then sort them in decending order\ndf_max_bill_number_item_description = df_ocean_nonull.groupBy(\"bill number\",\"Item_Description\").sum(\"Total_Bill_Amount\").sort(\"sum(Total_Bill_Amount)\",ascending=False)",
			"metadata": {
				"trusted": true,
				"tags": []
			},
			"execution_count": 121,
			"outputs": [
				{
					"name": "stdout",
					"text": "\n",
					"output_type": "stream"
				}
			]
		},
		{
			"cell_type": "code",
			"source": "df_max_bill_number_item_description.show(5)",
			"metadata": {
				"trusted": true,
				"tags": []
			},
			"execution_count": 141,
			"outputs": [
				{
					"name": "stdout",
					"text": "+-----------+--------------------+----------------------+\n|bill number|    Item_Description|sum(Total_Bill_Amount)|\n+-----------+--------------------+----------------------+\n|   G0470260|      LEMON ICED TEA|                315.56|\n|   G0470122|      LEMON ICED TEA|                210.38|\n|   G0470173|      LEMON ICED TEA|                210.38|\n|   G0470187| OCEAN SPECIAL CREAM|                179.44|\n|   G0470221|RED BULL ENERGY D...|                154.69|\n+-----------+--------------------+----------------------+\nonly showing top 5 rows\n",
					"output_type": "stream"
				}
			]
		},
		{
			"cell_type": "code",
			"source": " #transforming Spark Dataframes back to Glue DynamicFrames\ntransform_df1 = DynamicFrame.fromDF(df_max_bill_number, glueContext, \"transform_df1\")\ntransform_df2 = DynamicFrame.fromDF(df_max_item_description, glueContext, \"transform_df2\")\ntransform_df3 = DynamicFrame.fromDF(df_max_bill_number_item_description, glueContext, \"transform_df3\")",
			"metadata": {
				"trusted": true,
				"tags": []
			},
			"execution_count": 146,
			"outputs": [
				{
					"name": "stdout",
					"text": "\n",
					"output_type": "stream"
				}
			]
		},
		{
			"cell_type": "markdown",
			"source": "# Load",
			"metadata": {}
		},
		{
			"cell_type": "markdown",
			"source": "#### Write the data in the DynamicFrame to a location in Amazon S3 and a table for it in the AWS Glue Data Catalog\n",
			"metadata": {
				"editable": true,
				"trusted": true
			}
		},
		{
			"cell_type": "code",
			"source": "# Storing the data on s3 specified path in parquet format\nsink1 = glueContext.write_dynamic_frame.from_options(frame = transform_df1, connection_type = \"s3\", connection_options = {\"path\": 's3://ocean-data-output/ocean-Transformed-data/Amount_by_billnumber'}, format = \"parquet\", transformation_ctx=\"datasink1\")\nsink2 = glueContext.write_dynamic_frame.from_options(frame = transform_df2, connection_type = \"s3\", connection_options = {\"path\": 's3://ocean-data-output/ocean-Transformed-data/Amount_by_item_description'}, format = \"parquet\", transformation_ctx=\"datasink2\") \nsink3 = glueContext.write_dynamic_frame.from_options(frame = transform_df3, connection_type = \"s3\", connection_options = {\"path\": 's3://ocean-data-output/ocean-Transformed-data/Amount_by_billnumber_and_item_description'}, format = \"parquet\", transformation_ctx=\"datasink3\")\n\njob.commit()\n        ",
			"metadata": {
				"trusted": true,
				"editable": true
			},
			"execution_count": 152,
			"outputs": [
				{
					"name": "stdout",
					"text": "\n",
					"output_type": "stream"
				}
			]
		},
		{
			"cell_type": "code",
			"source": "",
			"metadata": {},
			"execution_count": null,
			"outputs": []
		}
	]
}